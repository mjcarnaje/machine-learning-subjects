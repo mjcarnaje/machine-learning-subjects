{
 "cells": [
  {
   "cell_type": "markdown",
   "metadata": {},
   "source": [
    "# CSC 173 - Intelligent Systems\n",
    "- Binary Classifier for Bathroom Quality Prediction\n",
    "- Author: Michael James Carnaje\n",
    "- Date: October 05, 2024\n"
   ]
  },
  {
   "cell_type": "markdown",
   "metadata": {},
   "source": [
    "\n",
    "- Overview: This notebook implements a neural network to predict\n",
    "  bathroom quality (Good/Bad) based on area and bathrooms.\n",
    "- Data: house_bathroom.csv"
   ]
  },
  {
   "cell_type": "markdown",
   "metadata": {},
   "source": [
    "We'll start by loading the libraries and the dataset. \n",
    "\n",
    "- Pandas for data manipulation.\n",
    "- Numpy for numerical operations.\n",
    "- Matplotlib for visualization."
   ]
  },
  {
   "cell_type": "code",
   "execution_count": 170,
   "metadata": {},
   "outputs": [],
   "source": [
    "import pandas as pd\n",
    "import numpy as np\n",
    "import matplotlib.pyplot as plt"
   ]
  },
  {
   "cell_type": "markdown",
   "metadata": {},
   "source": [
    "Load the dataset, I converted the table from the assignment file to a csv file."
   ]
  },
  {
   "cell_type": "code",
   "execution_count": 171,
   "metadata": {},
   "outputs": [
    {
     "data": {
      "text/html": [
       "<div>\n",
       "<style scoped>\n",
       "    .dataframe tbody tr th:only-of-type {\n",
       "        vertical-align: middle;\n",
       "    }\n",
       "\n",
       "    .dataframe tbody tr th {\n",
       "        vertical-align: top;\n",
       "    }\n",
       "\n",
       "    .dataframe thead th {\n",
       "        text-align: right;\n",
       "    }\n",
       "</style>\n",
       "<table border=\"1\" class=\"dataframe\">\n",
       "  <thead>\n",
       "    <tr style=\"text-align: right;\">\n",
       "      <th></th>\n",
       "      <th>Area (sq ft)</th>\n",
       "      <th>Bathrooms</th>\n",
       "      <th>Classification</th>\n",
       "    </tr>\n",
       "  </thead>\n",
       "  <tbody>\n",
       "    <tr>\n",
       "      <th>0</th>\n",
       "      <td>2104</td>\n",
       "      <td>3</td>\n",
       "      <td>Good</td>\n",
       "    </tr>\n",
       "    <tr>\n",
       "      <th>1</th>\n",
       "      <td>1600</td>\n",
       "      <td>3</td>\n",
       "      <td>Good</td>\n",
       "    </tr>\n",
       "    <tr>\n",
       "      <th>2</th>\n",
       "      <td>2400</td>\n",
       "      <td>3</td>\n",
       "      <td>Good</td>\n",
       "    </tr>\n",
       "    <tr>\n",
       "      <th>3</th>\n",
       "      <td>1416</td>\n",
       "      <td>2</td>\n",
       "      <td>Bad</td>\n",
       "    </tr>\n",
       "    <tr>\n",
       "      <th>4</th>\n",
       "      <td>3000</td>\n",
       "      <td>4</td>\n",
       "      <td>Bad</td>\n",
       "    </tr>\n",
       "    <tr>\n",
       "      <th>5</th>\n",
       "      <td>1985</td>\n",
       "      <td>4</td>\n",
       "      <td>Good</td>\n",
       "    </tr>\n",
       "    <tr>\n",
       "      <th>6</th>\n",
       "      <td>1534</td>\n",
       "      <td>3</td>\n",
       "      <td>Bad</td>\n",
       "    </tr>\n",
       "    <tr>\n",
       "      <th>7</th>\n",
       "      <td>1427</td>\n",
       "      <td>3</td>\n",
       "      <td>Good</td>\n",
       "    </tr>\n",
       "    <tr>\n",
       "      <th>8</th>\n",
       "      <td>1380</td>\n",
       "      <td>3</td>\n",
       "      <td>Good</td>\n",
       "    </tr>\n",
       "    <tr>\n",
       "      <th>9</th>\n",
       "      <td>1494</td>\n",
       "      <td>3</td>\n",
       "      <td>Good</td>\n",
       "    </tr>\n",
       "  </tbody>\n",
       "</table>\n",
       "</div>"
      ],
      "text/plain": [
       "   Area (sq ft)  Bathrooms Classification\n",
       "0          2104          3           Good\n",
       "1          1600          3           Good\n",
       "2          2400          3           Good\n",
       "3          1416          2            Bad\n",
       "4          3000          4            Bad\n",
       "5          1985          4           Good\n",
       "6          1534          3            Bad\n",
       "7          1427          3           Good\n",
       "8          1380          3           Good\n",
       "9          1494          3           Good"
      ]
     },
     "execution_count": 171,
     "metadata": {},
     "output_type": "execute_result"
    }
   ],
   "source": [
    "df = pd.read_csv('house_bathroom.csv')\n",
    "\n",
    "df"
   ]
  },
  {
   "cell_type": "markdown",
   "metadata": {},
   "source": [
    "Now we will convert the 'Good' and 'Bad' values in the Classification column to 1 and 0 respectively."
   ]
  },
  {
   "cell_type": "code",
   "execution_count": 172,
   "metadata": {},
   "outputs": [
    {
     "data": {
      "text/html": [
       "<div>\n",
       "<style scoped>\n",
       "    .dataframe tbody tr th:only-of-type {\n",
       "        vertical-align: middle;\n",
       "    }\n",
       "\n",
       "    .dataframe tbody tr th {\n",
       "        vertical-align: top;\n",
       "    }\n",
       "\n",
       "    .dataframe thead th {\n",
       "        text-align: right;\n",
       "    }\n",
       "</style>\n",
       "<table border=\"1\" class=\"dataframe\">\n",
       "  <thead>\n",
       "    <tr style=\"text-align: right;\">\n",
       "      <th></th>\n",
       "      <th>Area (sq ft)</th>\n",
       "      <th>Bathrooms</th>\n",
       "      <th>Classification</th>\n",
       "    </tr>\n",
       "  </thead>\n",
       "  <tbody>\n",
       "    <tr>\n",
       "      <th>0</th>\n",
       "      <td>2104</td>\n",
       "      <td>3</td>\n",
       "      <td>1</td>\n",
       "    </tr>\n",
       "    <tr>\n",
       "      <th>1</th>\n",
       "      <td>1600</td>\n",
       "      <td>3</td>\n",
       "      <td>1</td>\n",
       "    </tr>\n",
       "    <tr>\n",
       "      <th>2</th>\n",
       "      <td>2400</td>\n",
       "      <td>3</td>\n",
       "      <td>1</td>\n",
       "    </tr>\n",
       "    <tr>\n",
       "      <th>3</th>\n",
       "      <td>1416</td>\n",
       "      <td>2</td>\n",
       "      <td>0</td>\n",
       "    </tr>\n",
       "    <tr>\n",
       "      <th>4</th>\n",
       "      <td>3000</td>\n",
       "      <td>4</td>\n",
       "      <td>0</td>\n",
       "    </tr>\n",
       "    <tr>\n",
       "      <th>5</th>\n",
       "      <td>1985</td>\n",
       "      <td>4</td>\n",
       "      <td>1</td>\n",
       "    </tr>\n",
       "    <tr>\n",
       "      <th>6</th>\n",
       "      <td>1534</td>\n",
       "      <td>3</td>\n",
       "      <td>0</td>\n",
       "    </tr>\n",
       "    <tr>\n",
       "      <th>7</th>\n",
       "      <td>1427</td>\n",
       "      <td>3</td>\n",
       "      <td>1</td>\n",
       "    </tr>\n",
       "    <tr>\n",
       "      <th>8</th>\n",
       "      <td>1380</td>\n",
       "      <td>3</td>\n",
       "      <td>1</td>\n",
       "    </tr>\n",
       "    <tr>\n",
       "      <th>9</th>\n",
       "      <td>1494</td>\n",
       "      <td>3</td>\n",
       "      <td>1</td>\n",
       "    </tr>\n",
       "  </tbody>\n",
       "</table>\n",
       "</div>"
      ],
      "text/plain": [
       "   Area (sq ft)  Bathrooms  Classification\n",
       "0          2104          3               1\n",
       "1          1600          3               1\n",
       "2          2400          3               1\n",
       "3          1416          2               0\n",
       "4          3000          4               0\n",
       "5          1985          4               1\n",
       "6          1534          3               0\n",
       "7          1427          3               1\n",
       "8          1380          3               1\n",
       "9          1494          3               1"
      ]
     },
     "execution_count": 172,
     "metadata": {},
     "output_type": "execute_result"
    }
   ],
   "source": [
    "df['Classification'] = df['Classification'].apply(lambda x: 1 if x == 'Good' else 0)\n",
    "\n",
    "df"
   ]
  },
  {
   "cell_type": "markdown",
   "metadata": {},
   "source": [
    "So to answer the **second question**, we have:\n",
    "- Input variables: Area (sq ft), Bathrooms\n",
    "- Output variable: Classification"
   ]
  },
  {
   "cell_type": "code",
   "execution_count": 173,
   "metadata": {},
   "outputs": [],
   "source": [
    "inputX = df[['Area (sq ft)', 'Bathrooms']].values\n",
    "inputY = df['Classification'].values"
   ]
  },
  {
   "cell_type": "code",
   "execution_count": 174,
   "metadata": {},
   "outputs": [
    {
     "data": {
      "text/plain": [
       "array([[2104,    3],\n",
       "       [1600,    3],\n",
       "       [2400,    3],\n",
       "       [1416,    2],\n",
       "       [3000,    4],\n",
       "       [1985,    4],\n",
       "       [1534,    3],\n",
       "       [1427,    3],\n",
       "       [1380,    3],\n",
       "       [1494,    3]])"
      ]
     },
     "execution_count": 174,
     "metadata": {},
     "output_type": "execute_result"
    }
   ],
   "source": [
    "inputX = np.array(inputX)\n",
    "inputX"
   ]
  },
  {
   "cell_type": "code",
   "execution_count": 175,
   "metadata": {},
   "outputs": [
    {
     "data": {
      "text/plain": [
       "array([1, 1, 1, 0, 0, 1, 0, 1, 1, 1])"
      ]
     },
     "execution_count": 175,
     "metadata": {},
     "output_type": "execute_result"
    }
   ],
   "source": [
    "inputY = np.array(inputY)\n",
    "inputY\n"
   ]
  },
  {
   "cell_type": "markdown",
   "metadata": {},
   "source": [
    "  Let's define the parameters for the binary classifier network.\n",
    "  - Learning rate: The learning rate is the step size that determines how much the weights and biases are updated during training.\n",
    "  - Training epochs: The number of epochs is the number of times the entire dataset is passed through the neural network during training.\n",
    "  - Display step: The display step is the number of epochs after which the loss is displayed.\n",
    "  - Number of samples: The number of samples is the total number of data points in the dataset."
   ]
  },
  {
   "cell_type": "code",
   "execution_count": 176,
   "metadata": {},
   "outputs": [],
   "source": [
    "learning_rate = 0.01\n",
    "training_epochs = 10000\n",
    "display_step = 100\n",
    "n_samples = inputX.size"
   ]
  },
  {
   "cell_type": "markdown",
   "metadata": {},
   "source": [
    "So to answer the **5th question**, the learning rate is 0.01, the training epochs is 10000.\n"
   ]
  },
  {
   "cell_type": "markdown",
   "metadata": {},
   "source": [
    "I used the sigmoid function as the **activation function** because it is a binary classifier. and this will answer the **4th question**.\n",
    "\n"
   ]
  },
  {
   "cell_type": "code",
   "execution_count": 177,
   "metadata": {},
   "outputs": [],
   "source": [
    "def sigmoid(x):\n",
    "    return 1 / (1 + np.exp(-x))            "
   ]
  },
  {
   "cell_type": "markdown",
   "metadata": {},
   "source": [
    "I used the mean squared error as the **loss function** because it is a regression problem. and this will answer the **4th question**."
   ]
  },
  {
   "cell_type": "code",
   "execution_count": 178,
   "metadata": {},
   "outputs": [],
   "source": [
    "def mse_loss(y_true, y_pred):\n",
    "    return ((y_true - y_pred) ** 2).mean()"
   ]
  },
  {
   "cell_type": "code",
   "execution_count": 179,
   "metadata": {},
   "outputs": [],
   "source": [
    "def derivative_sigmoid(x):\n",
    "    fx = sigmoid(x)\n",
    "    return fx * (1 - fx)"
   ]
  },
  {
   "cell_type": "markdown",
   "metadata": {},
   "source": [
    "This BinaryClassifier is the same as the *'Machine Learning for Beginners: An Introduction to Neural Networks'* by **Victor Zhou**. But I made some modifications to the code by adding the *normalize_input* method to normalize the input data, which was not done in the example, and also added the saving of errors in a list for plotting later.\n"
   ]
  },
  {
   "cell_type": "markdown",
   "metadata": {},
   "source": [
    "To answer the **3th question**, The initialization of the weights and biases are random, which I got from the example by **Victor Zhou**.\n"
   ]
  },
  {
   "cell_type": "code",
   "execution_count": 180,
   "metadata": {},
   "outputs": [],
   "source": [
    "class BinaryClassifier:\n",
    "    def __init__(self, learning_rate, training_epochs, display_step):\n",
    "        self.learning_rate = learning_rate\n",
    "        self.training_epochs = training_epochs\n",
    "        self.display_step = display_step\n",
    "\n",
    "        # Normalize the input data\n",
    "        self.input_mean = None\n",
    "        self.input_std = None\n",
    "        \n",
    "        # Initialize weights\n",
    "        self.w1 = np.random.uniform(-3, 3)\n",
    "        self.w2 = np.random.uniform(-3, 3)\n",
    "        self.w3 = np.random.uniform(-3, 3)\n",
    "        self.w4 = np.random.uniform(-3, 3)\n",
    "        self.w5 = np.random.uniform(-3, 3)\n",
    "        self.w6 = np.random.uniform(-3, 3)\n",
    "        \n",
    "        # Initialize biases \n",
    "        self.b1 = np.random.uniform(-3, 3)\n",
    "        self.b2 = np.random.uniform(-3, 3)\n",
    "        self.b3 = np.random.uniform(-3, 3)\n",
    "\n",
    "    def normalize_input(self, X):\n",
    "        if self.input_mean is None or self.input_std is None:\n",
    "            self.input_mean = np.mean(X, axis=0)\n",
    "            self.input_std = np.std(X, axis=0)\n",
    "        \n",
    "        return (X - self.input_mean) / (self.input_std + 1e-8)\n",
    "\n",
    "\n",
    "    def feedforward(self, x):\n",
    "        x_normalized = (x - self.input_mean) / (self.input_std + 1e-8)\n",
    "        \n",
    "        h1 = sigmoid(self.w1 * x_normalized[0] + self.w2 * x_normalized[1] + self.b1)\n",
    "        h2 = sigmoid(self.w3 * x_normalized[0] + self.w4 * x_normalized[1] + self.b2)\n",
    "        \n",
    "        o1 = sigmoid(self.w5 * h1 + self.w6 * h2 + self.b3)\n",
    "        \n",
    "        return o1\n",
    "    \n",
    "\n",
    "    def train(self, data, all_y_trues):\n",
    "        normalized_data = self.normalize_input(data)\n",
    "        errors = []\n",
    "        normalized_data = np.array(normalized_data)\n",
    "        \n",
    "        for epoch in range(self.training_epochs):\n",
    "            epoch_error = 0\n",
    "            for x, y_true in zip(normalized_data, all_y_trues):\n",
    "                \n",
    "                sum_h1 = self.w1 * x[0] + self.w2 * x[1] + self.b1\n",
    "                h1 = sigmoid(sum_h1)\n",
    "\n",
    "                sum_h2 = self.w3 * x[0] + self.w4 * x[1] + self.b2\n",
    "                h2 = sigmoid(sum_h2)\n",
    "\n",
    "                sum_o1 = self.w5 * h1 + self.w6 * h2 + self.b3\n",
    "                o1 = sigmoid(sum_o1)\n",
    "                y_pred = o1\n",
    "\n",
    "                d_L_d_ypred = -2 * (y_true - y_pred)\n",
    "\n",
    "                d_ypred_d_w5 = h1 * derivative_sigmoid(sum_o1)\n",
    "                d_ypred_d_w6 = h2 * derivative_sigmoid(sum_o1)\n",
    "                d_ypred_d_b3 = derivative_sigmoid(sum_o1)\n",
    "\n",
    "                d_ypred_d_h1 = self.w5 * derivative_sigmoid(sum_o1)\n",
    "                d_ypred_d_h2 = self.w6 * derivative_sigmoid(sum_o1)\n",
    "\n",
    "                d_h1_d_w1 = x[0] * derivative_sigmoid(sum_h1)\n",
    "                d_h1_d_w2 = x[1] * derivative_sigmoid(sum_h1)\n",
    "                d_h1_d_b1 = derivative_sigmoid(sum_h1)\n",
    "\n",
    "                d_h2_d_w3 = x[0] * derivative_sigmoid(sum_h2)\n",
    "                d_h2_d_w4 = x[1] * derivative_sigmoid(sum_h2)\n",
    "                d_h2_d_b2 = derivative_sigmoid(sum_h2)\n",
    "\n",
    "                self.w1 -= self.learning_rate * d_L_d_ypred * d_ypred_d_h1 * d_h1_d_w1\n",
    "                self.w2 -= self.learning_rate * d_L_d_ypred * d_ypred_d_h1 * d_h1_d_w2\n",
    "                self.w3 -= self.learning_rate * d_L_d_ypred * d_ypred_d_h2 * d_h2_d_w3\n",
    "                self.w4 -= self.learning_rate * d_L_d_ypred * d_ypred_d_h2 * d_h2_d_w4\n",
    "                self.w5 -= self.learning_rate * d_L_d_ypred * d_ypred_d_w5\n",
    "                self.w6 -= self.learning_rate * d_L_d_ypred * d_ypred_d_w6\n",
    "                self.b1 -= self.learning_rate * d_L_d_ypred * d_ypred_d_h1 * d_h1_d_b1\n",
    "                self.b2 -= self.learning_rate * d_L_d_ypred * d_ypred_d_h2 * d_h2_d_b2\n",
    "                self.b3 -= self.learning_rate * d_L_d_ypred * d_ypred_d_b3\n",
    "                \n",
    "                loss = mse_loss(y_true, y_pred)\n",
    "                epoch_error += loss\n",
    "            \n",
    "            avg_epoch_error = epoch_error / len(data)\n",
    "            errors.append(avg_epoch_error)\n",
    "            \n",
    "            if epoch % self.display_step == 0:\n",
    "                print(f\"Epoch: {epoch}/{self.training_epochs}, Loss: {avg_epoch_error}\")\n",
    "        \n",
    "        return normalized_data, errors\n",
    "\n"
   ]
  },
  {
   "cell_type": "code",
   "execution_count": 181,
   "metadata": {},
   "outputs": [
    {
     "name": "stdout",
     "output_type": "stream",
     "text": [
      "Epoch: 0/10000, Loss: 0.3140364050981928\n",
      "Epoch: 100/10000, Loss: 0.2027232515132852\n",
      "Epoch: 200/10000, Loss: 0.19176298489789415\n",
      "Epoch: 300/10000, Loss: 0.18799078930419721\n",
      "Epoch: 400/10000, Loss: 0.18544352337788103\n",
      "Epoch: 500/10000, Loss: 0.1834235655931491\n",
      "Epoch: 600/10000, Loss: 0.18174762234111394\n",
      "Epoch: 700/10000, Loss: 0.18031921596828993\n",
      "Epoch: 800/10000, Loss: 0.17907680401542736\n",
      "Epoch: 900/10000, Loss: 0.17797871579688612\n",
      "Epoch: 1000/10000, Loss: 0.17699563566348073\n",
      "Epoch: 1100/10000, Loss: 0.17610629224390104\n",
      "Epoch: 1200/10000, Loss: 0.17529484371498297\n",
      "Epoch: 1300/10000, Loss: 0.1745492233376491\n",
      "Epoch: 1400/10000, Loss: 0.17386005497665383\n",
      "Epoch: 1500/10000, Loss: 0.17321992105657394\n",
      "Epoch: 1600/10000, Loss: 0.17262285618872963\n",
      "Epoch: 1700/10000, Loss: 0.1720639896136507\n",
      "Epoch: 1800/10000, Loss: 0.17153928823186343\n",
      "Epoch: 1900/10000, Loss: 0.17104536905602172\n",
      "Epoch: 2000/10000, Loss: 0.17057936043114483\n",
      "Epoch: 2100/10000, Loss: 0.17013879804119383\n",
      "Epoch: 2200/10000, Loss: 0.16972154606220646\n",
      "Epoch: 2300/10000, Loss: 0.16932573671070586\n",
      "Epoch: 2400/10000, Loss: 0.16894972339438716\n",
      "Epoch: 2500/10000, Loss: 0.1685920440216246\n",
      "Epoch: 2600/10000, Loss: 0.16825139196965022\n",
      "Epoch: 2700/10000, Loss: 0.1679265928787963\n",
      "Epoch: 2800/10000, Loss: 0.16761658591773976\n",
      "Epoch: 2900/10000, Loss: 0.16732040850960642\n",
      "Epoch: 3000/10000, Loss: 0.16703718376007917\n",
      "Epoch: 3100/10000, Loss: 0.1667661100131706\n",
      "Epoch: 3200/10000, Loss: 0.16650645209679496\n",
      "Epoch: 3300/10000, Loss: 0.16625753392190643\n",
      "Epoch: 3400/10000, Loss: 0.1660187321751522\n",
      "Epoch: 3500/10000, Loss: 0.1657894709024501\n",
      "Epoch: 3600/10000, Loss: 0.1655692168245152\n",
      "Epoch: 3700/10000, Loss: 0.16535747525865951\n",
      "Epoch: 3800/10000, Loss: 0.16515378654678098\n",
      "Epoch: 3900/10000, Loss: 0.1649577229092332\n",
      "Epoch: 4000/10000, Loss: 0.16476888565965644\n",
      "Epoch: 4100/10000, Loss: 0.16458690272789359\n",
      "Epoch: 4200/10000, Loss: 0.16441142644760237\n",
      "Epoch: 4300/10000, Loss: 0.16424213157270118\n",
      "Epoch: 4400/10000, Loss: 0.16407871349278902\n",
      "Epoch: 4500/10000, Loss: 0.16392088662250837\n",
      "Epoch: 4600/10000, Loss: 0.16376838294372167\n",
      "Epoch: 4700/10000, Loss: 0.16362095068255125\n",
      "Epoch: 4800/10000, Loss: 0.1634783531059399\n",
      "Epoch: 4900/10000, Loss: 0.16334036742453972\n",
      "Epoch: 5000/10000, Loss: 0.1632067837905231\n",
      "Epoch: 5100/10000, Loss: 0.16307740438040275\n",
      "Epoch: 5200/10000, Loss: 0.1629520425542067\n",
      "Epoch: 5300/10000, Loss: 0.16283052208341195\n",
      "Epoch: 5400/10000, Loss: 0.16271267644095125\n",
      "Epoch: 5500/10000, Loss: 0.16259834814737542\n",
      "Epoch: 5600/10000, Loss: 0.16248738816792346\n",
      "Epoch: 5700/10000, Loss: 0.1623796553558241\n",
      "Epoch: 5800/10000, Loss: 0.16227501593765584\n",
      "Epoch: 5900/10000, Loss: 0.1621733430370226\n",
      "Epoch: 6000/10000, Loss: 0.16207451623318675\n",
      "Epoch: 6100/10000, Loss: 0.16197842115163355\n",
      "Epoch: 6200/10000, Loss: 0.1618849490838359\n",
      "Epoch: 6300/10000, Loss: 0.1617939966337485\n",
      "Epoch: 6400/10000, Loss: 0.16170546538879102\n",
      "Epoch: 6500/10000, Loss: 0.16161926161328402\n",
      "Epoch: 6600/10000, Loss: 0.1615352959624836\n",
      "Epoch: 6700/10000, Loss: 0.16145348321552308\n",
      "Epoch: 6800/10000, Loss: 0.16137374202571436\n",
      "Epoch: 6900/10000, Loss: 0.16129599468679037\n",
      "Epoch: 7000/10000, Loss: 0.1612201669137848\n",
      "Epoch: 7100/10000, Loss: 0.16114618763735192\n",
      "Epoch: 7200/10000, Loss: 0.1610739888104134\n",
      "Epoch: 7300/10000, Loss: 0.16100350522611057\n",
      "Epoch: 7400/10000, Loss: 0.16093467434610365\n",
      "Epoch: 7500/10000, Loss: 0.1608674361383316\n",
      "Epoch: 7600/10000, Loss: 0.1608017329233971\n",
      "Epoch: 7700/10000, Loss: 0.16073750922879299\n",
      "Epoch: 7800/10000, Loss: 0.16067471165022956\n",
      "Epoch: 7900/10000, Loss: 0.1606132887193556\n",
      "Epoch: 8000/10000, Loss: 0.16055319077719774\n",
      "Epoch: 8100/10000, Loss: 0.16049436985266674\n",
      "Epoch: 8200/10000, Loss: 0.1604367795454936\n",
      "Epoch: 8300/10000, Loss: 0.16038037491297388\n",
      "Epoch: 8400/10000, Loss: 0.16032511235990043\n",
      "Epoch: 8500/10000, Loss: 0.16027094953106438\n",
      "Epoch: 8600/10000, Loss: 0.16021784520569493\n",
      "Epoch: 8700/10000, Loss: 0.16016575919319212\n",
      "Epoch: 8800/10000, Loss: 0.1601146522294823\n",
      "Epoch: 8900/10000, Loss: 0.16006448587329009\n",
      "Epoch: 9000/10000, Loss: 0.1600152224015777\n",
      "Epoch: 9100/10000, Loss: 0.15996682470334428\n",
      "Epoch: 9200/10000, Loss: 0.159919256170906\n",
      "Epoch: 9300/10000, Loss: 0.1598724805876925\n",
      "Epoch: 9400/10000, Loss: 0.15982646201148787\n",
      "Epoch: 9500/10000, Loss: 0.1597811646519139\n",
      "Epoch: 9600/10000, Loss: 0.15973655274080212\n",
      "Epoch: 9700/10000, Loss: 0.15969259039390898\n",
      "Epoch: 9800/10000, Loss: 0.15964924146220733\n",
      "Epoch: 9900/10000, Loss: 0.15960646937071404\n"
     ]
    },
    {
     "data": {
      "image/png": "[encoded data removed]",
      "text/plain": [
       "<Figure size 640x480 with 1 Axes>"
      ]
     },
     "metadata": {},
     "output_type": "display_data"
    },
    {
     "data": {
      "image/png": "[encoded data removed]",
      "text/plain": [
       "<Figure size 640x480 with 1 Axes>"
      ]
     },
     "metadata": {},
     "output_type": "display_data"
    },
    {
     "name": "stdout",
     "output_type": "stream",
     "text": [
      "Final cost of the network: 0.214346\n"
     ]
    }
   ],
   "source": [
    "\n",
    "network = BinaryClassifier(learning_rate, training_epochs, display_step)\n",
    "normalized_data, errors = network.train(inputX, inputY)\n",
    "\n",
    "\n",
    "# plot the original data\n",
    "df_original = pd.DataFrame(inputX, columns=['Area (sq ft)', 'Bathrooms']) \n",
    "df_original['Classification'] = inputY\n",
    "\n",
    "plt.scatter(df_original['Area (sq ft)'], df_original['Bathrooms'], c=df_original['Classification'])\n",
    "plt.xlabel('Area (sq ft)')\n",
    "plt.ylabel('Bathrooms')\n",
    "plt.show()\n",
    "\n",
    "# plot the normalized data\n",
    "df_normalized = pd.DataFrame(normalized_data, columns=['Area (sq ft)', 'Bathrooms'])\n",
    "df_normalized['Classification'] = inputY\n",
    "\n",
    "plt.scatter(df_normalized['Area (sq ft)'], df_normalized['Bathrooms'], c=df_normalized['Classification'])\n",
    "plt.xlabel('Normalized Area (sq ft)')\n",
    "plt.ylabel('Normalized Bathrooms')\n",
    "plt.show()\n",
    "\n",
    "final_predictions = np.array([network.feedforward(x) for x in normalized_data])\n",
    "final_cost = mse_loss(inputY, final_predictions)\n",
    "\n",
    "print(f\"Final cost of the network: {final_cost:.6f}\")"
   ]
  },
  {
   "cell_type": "markdown",
   "metadata": {},
   "source": [
    "To answer the **7th question**, I save the errors in a list and plot it."
   ]
  },
  {
   "cell_type": "code",
   "execution_count": 182,
   "metadata": {},
   "outputs": [
    {
     "data": {
      "image/png": "[encoded data removed]",
      "text/plain": [
       "<Figure size 640x480 with 1 Axes>"
      ]
     },
     "metadata": {},
     "output_type": "display_data"
    }
   ],
   "source": [
    "plt.plot(errors)\n",
    "plt.xlabel('Epoch')\n",
    "plt.ylabel('Error')\n",
    "plt.show()"
   ]
  },
  {
   "cell_type": "markdown",
   "metadata": {},
   "source": [
    "To answer the **8th question**, we will test the network with the sample properties which are not in the training data."
   ]
  },
  {
   "cell_type": "code",
   "execution_count": 183,
   "metadata": {},
   "outputs": [
    {
     "name": "stdout",
     "output_type": "stream",
     "text": [
      "Area: 4000, Bathrooms: 1, Prediction: Bad (Probability: 0.1700)\n",
      "Area: 1494, Bathrooms: 3, Prediction: Good (Probability: 0.7820)\n",
      "Area: 2000, Bathrooms: 4, Prediction: Good (Probability: 0.7603)\n"
     ]
    }
   ],
   "source": [
    "sample_properties = np.array([[4000, 1], [1494, 3], [2000, 4]])\n",
    "\n",
    "for sample in sample_properties:\n",
    "    prediction = network.feedforward(sample)\n",
    "    print(f\"Area: {sample[0]}, Bathrooms: {sample[1]}, Prediction: {'Good' if prediction > 0.5 else 'Bad'} (Probability: {prediction:.4f})\")"
   ]
  },
  {
   "cell_type": "markdown",
   "metadata": {},
   "source": [
    "### References:\n",
    "- Alammar, J. (2019, August 27). A visual and interactive guide to the basics of neural networks. The Blog of Jay Alammar. https://jalammar.github.io/visual-interactive-guide-basics-neural-networks/\n",
    "- Zhou, V. (2018, September 12). Intro to neural networks: A beginner-friendly introduction. Victor Zhou. https://victorzhou.com/blog/intro-to-neural-networks/"
   ]
  }
 ],
 "metadata": {
  "kernelspec": {
   "display_name": "Python 3",
   "language": "python",
   "name": "python3"
  },
  "language_info": {
   "codemirror_mode": {
    "name": "ipython",
    "version": 3
   },
   "file_extension": ".py",
   "mimetype": "text/x-python",
   "name": "python",
   "nbconvert_exporter": "python",
   "pygments_lexer": "ipython3",
   "version": "3.9.6"
  }
 },
 "nbformat": 4,
 "nbformat_minor": 2
}
